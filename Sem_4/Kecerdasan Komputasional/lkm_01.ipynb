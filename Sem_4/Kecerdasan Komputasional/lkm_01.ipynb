{
 "cells": [
  {
   "cell_type": "code",
   "execution_count": 1,
   "metadata": {},
   "outputs": [
    {
     "name": "stdout",
     "output_type": "stream",
     "text": [
      "[[5 4 5]\n",
      " [7 6 7]\n",
      " [9 6 4]\n",
      " [1 3 7]]\n"
     ]
    }
   ],
   "source": [
    "import numpy as np \n",
    "\n",
    "arry2d = np.array([[5,4,5], [7,6,7], [9,6,4], [1,3,7]]) \n",
    "print(arry2d)"
   ]
  },
  {
   "cell_type": "code",
   "execution_count": 2,
   "metadata": {},
   "outputs": [
    {
     "name": "stdout",
     "output_type": "stream",
     "text": [
      "[[[ 7  8  5]\n",
      "  [ 4  5  7]\n",
      "  [ 7  1  9]\n",
      "  [ 5  8 10]]\n",
      "\n",
      " [[ 2  1  2]\n",
      "  [ 9  3  5]\n",
      "  [ 3  7  6]\n",
      "  [ 4  2  9]]\n",
      "\n",
      " [[ 1  9  3]\n",
      "  [ 4  4  8]\n",
      "  [ 6  4  6]\n",
      "  [ 8  1  3]]]\n"
     ]
    }
   ],
   "source": [
    "import numpy as np \n",
    "\n",
    "arry3d = np.array([[[7,8,5], [4,5,7], [7,1,9], [5,8,10]],\n",
    "                   [[2,1,2], [9,3,5], [3,7,6], [4,2,9]],\n",
    "                   [[1,9,3], [4,4,8], [6,4,6], [8,1,3]]]) \n",
    "print(arry3d)"
   ]
  },
  {
   "cell_type": "code",
   "execution_count": 6,
   "metadata": {},
   "outputs": [
    {
     "name": "stdout",
     "output_type": "stream",
     "text": [
      "[[11 11  9  5]\n",
      " [ 9  4  2  4]\n",
      " [ 2  4 10 10]\n",
      " [14  6  6 10]\n",
      " [ 9  5  6  7]]\n"
     ]
    }
   ],
   "source": [
    "\n",
    "arrygg = [[10,8,8,2], [9,2,2,2], [1,1,9,7], [14,4,6,8], [8,2,5,4]]\n",
    "\n",
    "arryhasil = np.array(arrygg)\n",
    "arryhasil[::2, :] += 1\n",
    "arryhasil[:, 1::2] += 2\n",
    "\n",
    "print(arryhasil)"
   ]
  },
  {
   "cell_type": "code",
   "execution_count": 7,
   "metadata": {},
   "outputs": [
    {
     "name": "stdout",
     "output_type": "stream",
     "text": [
      "[[[ 5  6  7]\n",
      "  [ 7  7  4]\n",
      "  [ 9  3  7]\n",
      "  [10  4  4]]\n",
      "\n",
      " [[ 2  6  2]\n",
      "  [ 5  8  9]\n",
      "  [ 3  6  3]\n",
      "  [ 9  9  6]]\n",
      "\n",
      " [[ 3  1  2]\n",
      "  [ 8  4  2]\n",
      "  [ 6  9  1]\n",
      "  [ 2  3  8]]]\n"
     ]
    }
   ],
   "source": [
    "arry3d = [[[7, 6, 5], [4, 7, 7], [7, 3, 9], [4, 4, 10]], \n",
    "          [[2, 6, 2], [9, 8, 5], [3, 6, 3], [6, 9, 9]], \n",
    "          [[2, 1, 3], [2, 4, 8], [1, 9, 6], [8, 3, 2]]]\n",
    "\n",
    "arrybalik = np.array(arry3d)\n",
    "arrybalik = np.flip(arrybalik, axis=2)\n",
    "print(arrybalik)"
   ]
  },
  {
   "cell_type": "code",
   "execution_count": 8,
   "metadata": {},
   "outputs": [
    {
     "name": "stdout",
     "output_type": "stream",
     "text": [
      "[[ 7  6  5  4  7  7]\n",
      " [ 7  3  9  4  4 10]\n",
      " [ 2  6  2  9  8  5]\n",
      " [ 3  6  3  6  9  9]\n",
      " [ 2  1  3  2  4  8]\n",
      " [ 1  9  6  8  3  2]]\n"
     ]
    }
   ],
   "source": [
    "arry3d = [[[7, 6, 5], [4, 7, 7], [7, 3, 9], [4, 4, 10]], \n",
    "          [[2, 6, 2], [9, 8, 5], [3, 6, 3], [6, 9, 9]], \n",
    "          [[2, 1, 3], [2, 4, 8], [1, 9, 6], [8, 3, 2]]]\n",
    "\n",
    "arry3d = np.array(arry3d)\n",
    "arryreshape = arry3d.reshape(6,6)\n",
    "print(arryreshape)\n",
    "\n"
   ]
  },
  {
   "cell_type": "code",
   "execution_count": 5,
   "metadata": {},
   "outputs": [
    {
     "name": "stdout",
     "output_type": "stream",
     "text": [
      "Array Awal:\n",
      "[[ 6 11 10  7]\n",
      " [ 7  5  4 10]\n",
      " [ 9 10  2  5]\n",
      " [ 1  3  9  2]\n",
      " [ 6 10  5  2]\n",
      " [ 4  5  9  4]]\n",
      "\n",
      "Array Setelah Diubah:\n",
      "[[ 9  2  1  3]\n",
      " [ 5  2  6 10]\n",
      " [ 9  4  4  5]\n",
      " [10  7  6 11]\n",
      " [ 4 10  7  5]\n",
      " [ 2  5  9 10]]\n"
     ]
    }
   ],
   "source": [
    "arry = np.array([[6, 11, 10, 7],\n",
    "                   [7, 5, 4, 10],\n",
    "                   [9, 10, 2, 5],\n",
    "                   [1, 3, 9, 2],\n",
    "                   [6, 10, 5, 2],\n",
    "                   [4, 5, 9, 4]])\n",
    "\n",
    "kiri_atas = np.hsplit(np.vsplit(arry, 2)[0], 2)[0]\n",
    "kiri_bawah = np.hsplit(np.vsplit(arry, 2)[1], 2)[0]\n",
    "kanan_atas = np.hsplit(np.vsplit(arry, 2)[0], 2)[1]\n",
    "kanan_bawah = np.hsplit(np.vsplit(arry, 2)[1], 2)[1]\n",
    "\n",
    "a = np.vstack((kanan_bawah, kanan_atas))\n",
    "b = np.vstack((kiri_bawah, kiri_atas))\n",
    "\n",
    "finalarry = np.hstack((a, b))\n",
    "\n",
    "print(\"Array Awal:\")\n",
    "print(arry)\n",
    "print()\n",
    "print(\"Array Setelah Diubah:\")\n",
    "print(finalarry)"
   ]
  }
 ],
 "metadata": {
  "kernelspec": {
   "display_name": ".venv",
   "language": "python",
   "name": "python3"
  },
  "language_info": {
   "codemirror_mode": {
    "name": "ipython",
    "version": 3
   },
   "file_extension": ".py",
   "mimetype": "text/x-python",
   "name": "python",
   "nbconvert_exporter": "python",
   "pygments_lexer": "ipython3",
   "version": "3.10.6"
  }
 },
 "nbformat": 4,
 "nbformat_minor": 2
}
