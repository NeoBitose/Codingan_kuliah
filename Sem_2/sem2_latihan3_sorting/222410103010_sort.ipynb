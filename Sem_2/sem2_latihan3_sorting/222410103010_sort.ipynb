{
 "cells": [
  {
   "attachments": {},
   "cell_type": "markdown",
   "metadata": {
    "notebookRunGroups": {
     "groupValue": "2"
    }
   },
   "source": [
    "#### <b>Sorting Menggunakan Selection Sort</b>"
   ]
  },
  {
   "cell_type": "code",
   "execution_count": null,
   "metadata": {},
   "outputs": [],
   "source": [
    "\n",
    "def sortSel(list_nilai):\n",
    "    \n",
    "    ulang = 0\n",
    "    \n",
    "    while ulang < len(list_nilai) :\n",
    "    \n",
    "        indeks_tmp = ulang\n",
    "        indeks_tukar = ulang\n",
    "        \n",
    "        for cek in range(ulang+1, len(list_nilai)):\n",
    "            \n",
    "            if list_nilai[cek] < list_nilai[indeks_tukar]: #pengurutan dari terkecil ke terbesar\n",
    "            # if list_nilai[cek] > list_nilai[indeks_tukar]: pengurutan dari terbesar ke terkecil\n",
    "            \n",
    "                indeks_tukar = cek\n",
    "                       \n",
    "        (list_nilai[indeks_tmp], list_nilai[indeks_tukar]) = (list_nilai[indeks_tukar], list_nilai[indeks_tmp])\n",
    "        \n",
    "        ulang += 1\n",
    "\n",
    "nilai_terurut = [45,30,5,25,15]\n",
    "\n",
    "print(f\"array sebelum diurutkan {nilai_terurut}\")\n",
    "\n",
    "sortSel(nilai_terurut)\n",
    "\n",
    "print(f\"array sesudah diurutkan {nilai_terurut}\")"
   ]
  },
  {
   "attachments": {},
   "cell_type": "markdown",
   "metadata": {},
   "source": [
    "Output : \n",
    "<br>\n",
    "<br>array sebelum diurutkan [45, 30, 5, 25, 15]\n",
    "<br>array sesudah diurutkan [5, 15, 25, 30, 40]\n",
    "<br>\n",
    "<br>Sistem pengurutan Selection Sort :\n",
    "<br>\n",
    "<br>[45, 30, 5, 25, 15] => kondisi awal\n",
    "<br>[5, 30, 45, 25, 15] => index 0 ditukar dengan index 2\n",
    "<br>[5, 15, 45, 25, 30] => index 1 ditukar dengan index 4\n",
    "<br>[5, 15, 25, 45, 30] => index 2 ditukar dengan index 3\n",
    "<br>[5, 15, 25, 30, 45] => index 3 ditukar dengan index 4\n"
   ]
  },
  {
   "attachments": {},
   "cell_type": "markdown",
   "metadata": {},
   "source": [
    "#### <b>Penulisan Fungsi sortSel(list_nilai)</b>"
   ]
  },
  {
   "cell_type": "code",
   "execution_count": null,
   "metadata": {},
   "outputs": [],
   "source": [
    "def sortSel(list_nilai):\n",
    "    \n",
    "    ulang = 0\n",
    "    \n",
    "    while ulang < len(list_nilai) :\n",
    "    \n",
    "        indeks_tmp = ulang\n",
    "        indeks_tukar = ulang\n",
    "        \n",
    "        for cek in range(ulang+1, len(list_nilai)):\n",
    "            \n",
    "            if list_nilai[cek] < list_nilai[indeks_tukar]: #pengurutan dari terkecil ke terbesar\n",
    "            # if list_nilai[cek] > list_nilai[indeks_tukar]: pengurutan dari terbesar ke terkecil\n",
    "            \n",
    "                indeks_tukar = cek\n",
    "                       \n",
    "        (list_nilai[indeks_tmp], list_nilai[indeks_tukar]) = (list_nilai[indeks_tukar], list_nilai[indeks_tmp])\n",
    "        \n",
    "        ulang += 1"
   ]
  },
  {
   "attachments": {},
   "cell_type": "markdown",
   "metadata": {},
   "source": [
    "<ul>\n",
    "<li>\n",
    "    Fungsi sortSel() memerlukan parameter list_nilai yang berupa sebuah list yang nantinya akan diurutkan.\n",
    "</li>\n",
    "<br>\n",
    "<li>\n",
    "    lalu ada variabel ulang dengan nilai awal 0 dan nantinya variabel ini digunakan untuk kondisi perulangan while.\n",
    "</li>\n",
    "<br>\n",
    "<li>\n",
    "    disini menggunakan perulangan while dengan kondisi variabel ulang kurang dari panjang parameter list_nilai. variabel ulang nanti nya akan bertambah dikarenkan ada kode \"ulang += 1\". jadi variabel ulang akan bertambah 1 ketika while mengulang terus, dan ketika while sampai pada kondisi variabel ulang memiliki nilai sama dengan panjang parameter list_nilai maka while berhenti mengulang dan nilai variabel ulang tidak bertambah lagi.\n",
    "</li>\n",
    "<br>\n",
    "<li>\n",
    "    membuat variabel indeks_tmp yang di deklarasikan sesuai dengan nilai variabel ulang, maksudnya untuk menyimpan index sementara sebelum indeks_tmp akan dicek satu persatu dengan indeks lainnya.\n",
    "</li>\n",
    "<br>\n",
    "<li>\n",
    "    membuat variabel indeks_tukar yang di deklarasikan sesuai dengan nilai variabel ulang, maksudnya untuk menyimpan index dengan nilai terkecil selama melakukan perulangan for di bawah ini. dan nantinya nilai indeks_tmp akan ditukar dengan nilai indeks_tukar. dan begitupun sebaliknya.\n",
    "</li>\n",
    "<br>\n",
    "<li>\n",
    "    membuat perulangan for menggunakan fungsi range yang dimulai dari nilai variabel ulang+1 hingga panjang parameter list_nilai dan nilai for dimasukkan di variabel cek, mengapa dimulai dari variabel ulang + 1, karena nantinya indeks_tmp yang bernilai sama dengan variabel ulang akan dibandingkan denga list lainnya yang mempunyai index diatas varibel indeks_tmp. jadi variabel ulang+1 merepresentasikan index diatas indeks_tmp. dan for akan berhenti jika perulangan atau sampai dengan panjang parameter list_nilai, jadi jika panjang list_nilai itu 5 maka perulangan akan berhenti di nilai 4. dibuat berhenti di 4 karena list yang memiliki panjang 5 itu index maksimalnya sampai di 4. dan variabel cek juga akan bernilai ulang+1 hingga panjang parameter list_nilai.\n",
    "</li>\n",
    "<br>\n",
    "<li>\n",
    "    membuat pengkondisian jika parameter list_nilai yang memiliki index sesuai dengan variabel cek memiliki nilai lebih kecil dari parameter list_nilai yang memiliki index sesuai variabel indeks_tukar. penkondisian ini nantinya untuk mengurutkan dari terkecil ke yang terbesar. untuk mengurutkan dari yang terbesar ke yang terkecil maka tanda \"<\" ditukar menjadi \">\". \n",
    "</li>\n",
    "<br>\n",
    "<li>\n",
    "    dalam pengkondisian diatas berisi pendeklarasian nilai indeks_tukar dengan nilai variabel cek. jadi selama perulangan for ini variabel indeks_tukar akan menyimpan indeks terkecil yang akan ditukar nantinya dengan variabel indeks_tmp.\n",
    "</li>\n",
    "<br>\n",
    "<li>\n",
    "    disini akan menukar nilai indeks_tmp dengan nilai indeks_tukar dan menukar nilai indeks_tukar dengan indeks_tmp. jadi konsep sorting selection ini membandingkan suatu index dengan index diatasnya dan jika ada yang lebih kecil maka akan ditukarkan.\n",
    "</li>\n",
    "<br>\n",
    "<li>\n",
    "    kode \"ulang += 1\" sebagai nilai increment dari perulangan while diatas untuk menambahkan nilai ulang sebanyak 1 setiap perulangan while.\n",
    "</li>\n",
    "</ul>"
   ]
  },
  {
   "cell_type": "code",
   "execution_count": null,
   "metadata": {},
   "outputs": [],
   "source": [
    "nilai_terurut = [45,30,5,25,15]"
   ]
  },
  {
   "attachments": {},
   "cell_type": "markdown",
   "metadata": {},
   "source": [
    "Baris diatas untuk membuat list dengan nama nilai_terurut yang berisi nilai yang tidak berurutan yaitu [45,30,5,25,15]."
   ]
  },
  {
   "cell_type": "code",
   "execution_count": null,
   "metadata": {},
   "outputs": [],
   "source": [
    "print(f\"array sebelum diurutkan {nilai_terurut}\")"
   ]
  },
  {
   "attachments": {},
   "cell_type": "markdown",
   "metadata": {},
   "source": [
    "Baris diatas untuk menampilkan list nilai_terurut yang telah dibuat sebelumnya. dengan output \"array sebelum diurutkan [45, 30, 5, 25, 15]\""
   ]
  },
  {
   "cell_type": "code",
   "execution_count": null,
   "metadata": {},
   "outputs": [],
   "source": [
    "sortSel(nilai_terurut)"
   ]
  },
  {
   "attachments": {},
   "cell_type": "markdown",
   "metadata": {},
   "source": [
    "Baris diatas pula untuk memanggil fungsi sortSel() dengan parameter list nilai_terurut. dan nantinya dari list nilai_terurut ini akan diurutkan oleh fungsi sortSel()."
   ]
  },
  {
   "cell_type": "code",
   "execution_count": null,
   "metadata": {},
   "outputs": [],
   "source": [
    "print(f\"array sesudah diurutkan {nilai_terurut}\")"
   ]
  },
  {
   "attachments": {},
   "cell_type": "markdown",
   "metadata": {},
   "source": [
    "Baris diatas untuk menampilkan list nilai_terurut yang telah diurutkan di fungsi sortSel() sebelumnya. dengan output \"array sesudah diurutkan [5, 15, 25, 30, 40]\"."
   ]
  },
  {
   "attachments": {},
   "cell_type": "markdown",
   "metadata": {},
   "source": [
    "#### <b>Sorting Menggunakan Insertion Sort</b>"
   ]
  },
  {
   "cell_type": "code",
   "execution_count": null,
   "metadata": {},
   "outputs": [],
   "source": [
    "def sortIns(list_nilai) :\n",
    "    \n",
    "    for ulang in range(len(list_nilai)-1) :\n",
    "        \n",
    "        nilai_tmp = list_nilai[ulang+1]\n",
    "        \n",
    "        while ulang >= 0 and nilai_tmp < list_nilai[ulang] :\n",
    "        # while ulang >= 0 and nilai_tmp > list_nilai[ulang] :\n",
    "        \n",
    "            list_nilai[ulang+1] = list_nilai[ulang]\n",
    "            ulang -= 1\n",
    "        \n",
    "        list_nilai[ulang+1] = nilai_tmp    \n",
    "\n",
    "nilai_terurut = [45,30,5,25,15]\n",
    "\n",
    "print(f\"array sebelum diurutkan {nilai_terurut}\")\n",
    "\n",
    "sortIns(nilai_terurut)\n",
    "\n",
    "print(f\"array sesuduh diurutkan {nilai_terurut}\")"
   ]
  },
  {
   "attachments": {},
   "cell_type": "markdown",
   "metadata": {},
   "source": [
    "Output : \n",
    "<br>\n",
    "<br>array sebelum diurutkan [45, 30, 5, 25, 15]\n",
    "<br>array sesudah diurutkan [5, 15, 25, 30, 40]\n",
    "<br>\n",
    "<br>Sistem pengurutan Insertion Sort :\n",
    "<br>\n",
    "<br>[45, 30, 5, 25, 15] => kondisi awal\n",
    "<br>[30, 45, 5, 25, 15] => index ke 1 diletakkan di index ke 0, index ke 0 bergeser ke index 1\n",
    "<br>[5, 30, 45, 25, 15] => index ke 2 diletakkan di index ke 0, index ke 1 bergeser ke index 2, dan index ke 0 bergeser ke index 1 \n",
    "<br>[5, 25, 30, 45, 15] => index ke 3 diletakkan di index ke 1, index ke 2 bergeser ke index 3, dan index ke 1 bergeser ke index 2\n",
    "<br>[5, 15, 25, 30, 45] => index ke 4 diletakkan di index ke 1, index ke 3 bergeser ke index 4, dan index ke 2 bergeser ke index 3"
   ]
  },
  {
   "cell_type": "code",
   "execution_count": null,
   "metadata": {},
   "outputs": [],
   "source": [
    "def sortIns(list_nilai) :\n",
    "    \n",
    "    for ulang in range(len(list_nilai)-1) :\n",
    "        \n",
    "        nilai_tmp = list_nilai[ulang+1]\n",
    "        \n",
    "        while ulang >= 0 and nilai_tmp < list_nilai[ulang] :\n",
    "            list_nilai[ulang+1] = list_nilai[ulang]\n",
    "            ulang -= 1\n",
    "        \n",
    "        list_nilai[ulang+1] = nilai_tmp "
   ]
  },
  {
   "attachments": {},
   "cell_type": "markdown",
   "metadata": {},
   "source": [
    "<ul>\n",
    "<li>\n",
    "    Fungsi sortIns() memerlukan parameter list_nilai yang berupa sebuah list yang nantinya akan diurutkan.\n",
    "</li>\n",
    "<br>\n",
    "<li>\n",
    "    membuat sebuah for dan menggunakan fungsi range dengan panjang sama dengan panjang parameter list_nilai yang dikurangi oleh satu jadi misal panjang list_nilai adalah 5, maka akan dimulai dari index 0 hingga index 4 dan dikurangi satu jadi index 3. kemudian nilai perulangan ini akan dimasukkan di variabel ulang. mengapa dikurangi satu karena pengecekan nilai list_nilai sampai dengan -1 dari index terakhir.\n",
    "</li>\n",
    "<br>\n",
    "<li>\n",
    "    didalam for ada variabel nilai_tmp yang dideklarasikan sesuai dengan nilai list_nilai dengan index variabel ulang+1 digunakan untuk menyimpan nilai sementara yang nantinya akan dicek satu persatu dengan index sebelum - sebelumnya. mengapa menggunakan variabel ulang+1, karena konsep dari insertion sort ini memeriksa sebuah index dan dibandingkan dengan index sebelum - sebelumnya jadi index 1 dibandingkan dengan index 0, index 2 dibandingkan dengan index 1 dan 0, dan seterusnya. variabel ulang digunakan untuk menunjukkan index ke 0 hingga index -1 dari index terakhir. jadi pertama perulangan dimulai dengan index ke 1 / ulang+1, karena index ke 0 merupakan index pertama dan tidak ada index sebelum index 0.\n",
    "</li>\n",
    "<br>\n",
    "<li>\n",
    "    dan membuat perulangan while dengan kondisi variabel ulang lebih besar sama dengan 0 dan nilai varibel nilai_tmp kurang dari nilai parameter list_nilai dengan index sesuai dengan variabel ulang. while ini digunakan untuk mengurutkan dari bilangan terkecil ke yang terbesar. untuk mengurutkan dari terbesar ke yang terkecil maka mengubah \"<\" pada \"nilai_tmp < list_nilai[ulang]\" menjadi \">\". dalam perulangan ini variabel ulang akan berkurang 1 setiap mengulang perulangan while ini dikarenakan ada kode \"ulang -= 1\" dan ketika variabel ulang lebih kecil dari 0 dan nilai varibel nilai_tmp kurang dari nilai parameter list_nilai dengan index sesuai dengan variabel ulang maka perulangan akan berhenti. mengapa perulangan while ini variabel ualng berkurang karena nantinya variabel nilai_tmp yang merupakan sebuah nili dari list list_nilai akan dibandingkan dengan nilai dari list_nilai lainnya dengan pemerikasaan secara mundur. jadi nilai_tmp ketika bernilai list_nilai dengan index 1 dibandingkan dengan list_nilai index 0, dan jika nilai_tmp bernilai index 2 dibandingkan dengan index 1 dan 0, dan seterusnya.\n",
    "</li>\n",
    "<br>\n",
    "<li>\n",
    "    didalam perulangan while diatas ada baris kode yang jika perulangan while nya berjalan maka nilai dari list_nilai dengan index sesuai variabel ulang+1 akan digantikan dengan nilai sebelumnya yaitu list_nilai dengan index sesuai variabel ulang. ini seusai dengan konsep index 1 dibandingkan dengan index 0, index 2 dibandingkan dengan index 1 dan 0, dan seterusnya tadi.\n",
    "</li>\n",
    "<br>\n",
    "<li>\n",
    "    kode \"ulang -= 1\" sebagai nilai decrement dari perulangan while diatas untuk mengurangi nilai ulang sebanyak 1 setiap perulangan while.\n",
    "</li>\n",
    "<br>\n",
    "<li>\n",
    "    dan proses berikutnya adalah mengubah nilai list_nilai dengan index sesuai variabel ulang+1 dengan nilai dari variabel nilai_tmp. jadi seperti bertukar tempat, misal index 1 dibandingkan dengan index 0 dan index 1 lebih kecil dari index 0 maka nilai index ke 1 akan isi oleh nilai index ke 0 dan nilai index ke 0 akan diisi oleh nilai index ke 1. \n",
    "</li>\n",
    "</ul>\n"
   ]
  },
  {
   "cell_type": "code",
   "execution_count": null,
   "metadata": {},
   "outputs": [],
   "source": [
    "nilai_terurut = [45,30,5,25,15]"
   ]
  },
  {
   "attachments": {},
   "cell_type": "markdown",
   "metadata": {},
   "source": [
    "Baris diatas untuk membuat list dengan nama nilai_terurut yang berisi nilai yang tidak berurutan yaitu [45,30,5,25,15]."
   ]
  },
  {
   "cell_type": "code",
   "execution_count": null,
   "metadata": {},
   "outputs": [],
   "source": [
    "print(f\"array sebelum diurutkan {nilai_terurut}\")\n"
   ]
  },
  {
   "attachments": {},
   "cell_type": "markdown",
   "metadata": {},
   "source": [
    "Baris diatas untuk menampilkan list nilai_terurut yang telah dibuat sebelumnya. dengan output \"array sebelum diurutkan [45, 30, 5, 25, 15]\""
   ]
  },
  {
   "cell_type": "code",
   "execution_count": null,
   "metadata": {},
   "outputs": [],
   "source": [
    "sortIns(nilai_terurut)"
   ]
  },
  {
   "attachments": {},
   "cell_type": "markdown",
   "metadata": {},
   "source": [
    "Baris diatas pula untuk memanggil fungsi sortIns() dengan parameter list nilai_terurut. dan nantinya dari list nilai_terurut ini akan diurutkan oleh fungsi sortIns()."
   ]
  },
  {
   "cell_type": "code",
   "execution_count": null,
   "metadata": {},
   "outputs": [],
   "source": [
    "print(f\"array sesuduh diurutkan {nilai_terurut}\")"
   ]
  },
  {
   "attachments": {},
   "cell_type": "markdown",
   "metadata": {},
   "source": [
    "Baris diatas untuk menampilkan list nilai_terurut yang telah diurutkan di fungsi sortIns() sebelumnya. dengan output \"array sesudah diurutkan [5, 15, 25, 30, 40]\"."
   ]
  }
 ],
 "metadata": {
  "kernelspec": {
   "display_name": "Python 3",
   "language": "python",
   "name": "python3"
  },
  "language_info": {
   "codemirror_mode": {
    "name": "ipython",
    "version": 3
   },
   "file_extension": ".py",
   "mimetype": "text/x-python",
   "name": "python",
   "nbconvert_exporter": "python",
   "pygments_lexer": "ipython3",
   "version": "3.10.6"
  },
  "orig_nbformat": 4
 },
 "nbformat": 4,
 "nbformat_minor": 2
}
